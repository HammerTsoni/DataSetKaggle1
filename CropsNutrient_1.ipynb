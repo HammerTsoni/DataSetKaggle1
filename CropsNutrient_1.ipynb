{
  "nbformat": 4,
  "nbformat_minor": 0,
  "metadata": {
    "colab": {
      "provenance": []
    },
    "kernelspec": {
      "name": "python3",
      "display_name": "Python 3"
    },
    "language_info": {
      "name": "python"
    }
  },
  "cells": [
    {
      "cell_type": "code",
      "execution_count": null,
      "metadata": {
        "colab": {
          "base_uri": "https://localhost:8080/",
          "height": 783
        },
        "id": "N4QMQ6dIoDQp",
        "outputId": "1bc0ef74-b6a9-4424-d8a0-448fe04e61ee"
      },
      "outputs": [
        {
          "output_type": "execute_result",
          "data": {
            "text/plain": [
              "                                        Crop  \\\n",
              "0                                      Acorn   \n",
              "1            Alfalfa + Orchardgrass, for hay   \n",
              "2    Alfalfa + Orchardgrass, for hay (cut 1)   \n",
              "3     Alfalfa + Smooth Brome, for green chop   \n",
              "4            Alfalfa + Smooth Brome, for hay   \n",
              "..                                       ...   \n",
              "732                  Wheat-Winter, for straw   \n",
              "733                      Wildrice, for grain   \n",
              "734                      Wildrice, for straw   \n",
              "735                                      Yam   \n",
              "736                          Barbados Cherry   \n",
              "\n",
              "                          ScientificName       Symbol NuContAvailable  \\\n",
              "0                            Quercus sp.        QUERC           N,P,K   \n",
              "1    Medicago sativa, Dactylis glomerata   MESA, DAGL             N,P   \n",
              "2    Medicago sativa, Dactylis glomerata   MESA, DAGL           N,P,K   \n",
              "3        Medicago sativa, Bromus inermis  MESA, BRIN2           N,P,K   \n",
              "4        Medicago sativa, Bromus inermis  MESA, BRIN2           N,P,K   \n",
              "..                                   ...          ...             ...   \n",
              "732                         Triticum sp.        TRITI           N,P,K   \n",
              "733                    Zizania palustris        ZIPA3           N,P,K   \n",
              "734                    Zizania palustris        ZIPA3           N,P,K   \n",
              "735                        Dioscorea sp.        DIOSC           N,P,K   \n",
              "736                 Malpighia emarginata         MAEM           N,P,K   \n",
              "\n",
              "      PlantPartHarvested    CropCategory          YieldUnit  \\\n",
              "0                  Fruit  Tree and fruit        lb of fruit   \n",
              "1    Aboveground biomass          Forage                ton   \n",
              "2    Aboveground biomass          Forage                ton   \n",
              "3    Aboveground biomass          Forage                ton   \n",
              "4    Aboveground biomass          Forage                ton   \n",
              "..                   ...             ...                ...   \n",
              "732                Straw  Cereal and oil  lb straw/bu grain   \n",
              "733            Caryopsis  Cereal and oil    lb of caryopsis   \n",
              "734                Straw  Cereal and oil  lb straw/lb grain   \n",
              "735                Tuber       Vegetable        lb of tuber   \n",
              "736                Fruit  Tree and fruit        lb of fruit   \n",
              "\n",
              "     AvYieldUnitWeight(lb)  AvMoisture%     AvN%(dry)  ... N%(wet)_M-FF  \\\n",
              "0                    1.000        27.90  1.3647711512  ...          NaN   \n",
              "1                 2000.000         9.70  2.4797142857  ...         1.92   \n",
              "2                 2000.000         7.95         2.144  ...          NaN   \n",
              "3                 2000.000        77.63  3.3220740741  ...         0.77   \n",
              "4                 2000.000        11.58  2.4177085202  ...         1.89   \n",
              "..                     ...          ...           ...  ...          ...   \n",
              "732                 92.475         9.22  0.6389573102  ...         0.62   \n",
              "733                  1.000        37.50       2.64432  ...          NaN   \n",
              "734                  1.310         9.20         0.809  ...          NaN   \n",
              "735                  1.000        74.00  1.1076923077  ...          NaN   \n",
              "736                  1.000        91.41  0.7450523865  ...          NaN   \n",
              "\n",
              "    P%(wet)_M-FF gP/100g(wet)_AgH8-9  gP/100g(wet)_AgH8-12  gP/100g(wet)_B788  \\\n",
              "0            NaN                 NaN                 0.079                NaN   \n",
              "1           0.24                 NaN                   NaN                NaN   \n",
              "2            NaN                 NaN                   NaN                NaN   \n",
              "3           0.07                 NaN                   NaN                NaN   \n",
              "4           0.20                 NaN                   NaN                NaN   \n",
              "..           ...                 ...                   ...                ...   \n",
              "732         0.07                 NaN                   NaN                NaN   \n",
              "733          NaN                 NaN                   NaN                NaN   \n",
              "734          NaN                 NaN                   NaN                NaN   \n",
              "735          NaN                 NaN                   NaN              0.065   \n",
              "736          NaN               0.011                   NaN                NaN   \n",
              "\n",
              "     P%(wet)_M&L  K%(wet)_M-FF  gK/100g(wet)_AgH8-9  gK/100g(wet)_AgH8-12  \\\n",
              "0            NaN           NaN                  NaN                 0.539   \n",
              "1            NaN           NaN                  NaN                   NaN   \n",
              "2            NaN           NaN                  NaN                   NaN   \n",
              "3            NaN          0.63                  NaN                   NaN   \n",
              "4            NaN          1.66                  NaN                   NaN   \n",
              "..           ...           ...                  ...                   ...   \n",
              "732          NaN          1.18                  NaN                   NaN   \n",
              "733          NaN           NaN                  NaN                   NaN   \n",
              "734          NaN           NaN                  NaN                   NaN   \n",
              "735          NaN           NaN                  NaN                   NaN   \n",
              "736          NaN           NaN                0.146                   NaN   \n",
              "\n",
              "     gK/100g(wet)_B788  \n",
              "0                  NaN  \n",
              "1                  NaN  \n",
              "2                  NaN  \n",
              "3                  NaN  \n",
              "4                  NaN  \n",
              "..                 ...  \n",
              "732                NaN  \n",
              "733                NaN  \n",
              "734                NaN  \n",
              "735                0.6  \n",
              "736                NaN  \n",
              "\n",
              "[737 rows x 161 columns]"
            ],
            "text/html": [
              "\n",
              "  <div id=\"df-2dc201c1-b720-4727-9be5-60f7978574c0\">\n",
              "    <div class=\"colab-df-container\">\n",
              "      <div>\n",
              "<style scoped>\n",
              "    .dataframe tbody tr th:only-of-type {\n",
              "        vertical-align: middle;\n",
              "    }\n",
              "\n",
              "    .dataframe tbody tr th {\n",
              "        vertical-align: top;\n",
              "    }\n",
              "\n",
              "    .dataframe thead th {\n",
              "        text-align: right;\n",
              "    }\n",
              "</style>\n",
              "<table border=\"1\" class=\"dataframe\">\n",
              "  <thead>\n",
              "    <tr style=\"text-align: right;\">\n",
              "      <th></th>\n",
              "      <th>Crop</th>\n",
              "      <th>ScientificName</th>\n",
              "      <th>Symbol</th>\n",
              "      <th>NuContAvailable</th>\n",
              "      <th>PlantPartHarvested</th>\n",
              "      <th>CropCategory</th>\n",
              "      <th>YieldUnit</th>\n",
              "      <th>AvYieldUnitWeight(lb)</th>\n",
              "      <th>AvMoisture%</th>\n",
              "      <th>AvN%(dry)</th>\n",
              "      <th>...</th>\n",
              "      <th>N%(wet)_M-FF</th>\n",
              "      <th>P%(wet)_M-FF</th>\n",
              "      <th>gP/100g(wet)_AgH8-9</th>\n",
              "      <th>gP/100g(wet)_AgH8-12</th>\n",
              "      <th>gP/100g(wet)_B788</th>\n",
              "      <th>P%(wet)_M&amp;L</th>\n",
              "      <th>K%(wet)_M-FF</th>\n",
              "      <th>gK/100g(wet)_AgH8-9</th>\n",
              "      <th>gK/100g(wet)_AgH8-12</th>\n",
              "      <th>gK/100g(wet)_B788</th>\n",
              "    </tr>\n",
              "  </thead>\n",
              "  <tbody>\n",
              "    <tr>\n",
              "      <th>0</th>\n",
              "      <td>Acorn</td>\n",
              "      <td>Quercus sp.</td>\n",
              "      <td>QUERC</td>\n",
              "      <td>N,P,K</td>\n",
              "      <td>Fruit</td>\n",
              "      <td>Tree and fruit</td>\n",
              "      <td>lb of fruit</td>\n",
              "      <td>1.000</td>\n",
              "      <td>27.90</td>\n",
              "      <td>1.3647711512</td>\n",
              "      <td>...</td>\n",
              "      <td>NaN</td>\n",
              "      <td>NaN</td>\n",
              "      <td>NaN</td>\n",
              "      <td>0.079</td>\n",
              "      <td>NaN</td>\n",
              "      <td>NaN</td>\n",
              "      <td>NaN</td>\n",
              "      <td>NaN</td>\n",
              "      <td>0.539</td>\n",
              "      <td>NaN</td>\n",
              "    </tr>\n",
              "    <tr>\n",
              "      <th>1</th>\n",
              "      <td>Alfalfa + Orchardgrass, for hay</td>\n",
              "      <td>Medicago sativa, Dactylis glomerata</td>\n",
              "      <td>MESA, DAGL</td>\n",
              "      <td>N,P</td>\n",
              "      <td>Aboveground biomass</td>\n",
              "      <td>Forage</td>\n",
              "      <td>ton</td>\n",
              "      <td>2000.000</td>\n",
              "      <td>9.70</td>\n",
              "      <td>2.4797142857</td>\n",
              "      <td>...</td>\n",
              "      <td>1.92</td>\n",
              "      <td>0.24</td>\n",
              "      <td>NaN</td>\n",
              "      <td>NaN</td>\n",
              "      <td>NaN</td>\n",
              "      <td>NaN</td>\n",
              "      <td>NaN</td>\n",
              "      <td>NaN</td>\n",
              "      <td>NaN</td>\n",
              "      <td>NaN</td>\n",
              "    </tr>\n",
              "    <tr>\n",
              "      <th>2</th>\n",
              "      <td>Alfalfa + Orchardgrass, for hay (cut 1)</td>\n",
              "      <td>Medicago sativa, Dactylis glomerata</td>\n",
              "      <td>MESA, DAGL</td>\n",
              "      <td>N,P,K</td>\n",
              "      <td>Aboveground biomass</td>\n",
              "      <td>Forage</td>\n",
              "      <td>ton</td>\n",
              "      <td>2000.000</td>\n",
              "      <td>7.95</td>\n",
              "      <td>2.144</td>\n",
              "      <td>...</td>\n",
              "      <td>NaN</td>\n",
              "      <td>NaN</td>\n",
              "      <td>NaN</td>\n",
              "      <td>NaN</td>\n",
              "      <td>NaN</td>\n",
              "      <td>NaN</td>\n",
              "      <td>NaN</td>\n",
              "      <td>NaN</td>\n",
              "      <td>NaN</td>\n",
              "      <td>NaN</td>\n",
              "    </tr>\n",
              "    <tr>\n",
              "      <th>3</th>\n",
              "      <td>Alfalfa + Smooth Brome, for green chop</td>\n",
              "      <td>Medicago sativa, Bromus inermis</td>\n",
              "      <td>MESA, BRIN2</td>\n",
              "      <td>N,P,K</td>\n",
              "      <td>Aboveground biomass</td>\n",
              "      <td>Forage</td>\n",
              "      <td>ton</td>\n",
              "      <td>2000.000</td>\n",
              "      <td>77.63</td>\n",
              "      <td>3.3220740741</td>\n",
              "      <td>...</td>\n",
              "      <td>0.77</td>\n",
              "      <td>0.07</td>\n",
              "      <td>NaN</td>\n",
              "      <td>NaN</td>\n",
              "      <td>NaN</td>\n",
              "      <td>NaN</td>\n",
              "      <td>0.63</td>\n",
              "      <td>NaN</td>\n",
              "      <td>NaN</td>\n",
              "      <td>NaN</td>\n",
              "    </tr>\n",
              "    <tr>\n",
              "      <th>4</th>\n",
              "      <td>Alfalfa + Smooth Brome, for hay</td>\n",
              "      <td>Medicago sativa, Bromus inermis</td>\n",
              "      <td>MESA, BRIN2</td>\n",
              "      <td>N,P,K</td>\n",
              "      <td>Aboveground biomass</td>\n",
              "      <td>Forage</td>\n",
              "      <td>ton</td>\n",
              "      <td>2000.000</td>\n",
              "      <td>11.58</td>\n",
              "      <td>2.4177085202</td>\n",
              "      <td>...</td>\n",
              "      <td>1.89</td>\n",
              "      <td>0.20</td>\n",
              "      <td>NaN</td>\n",
              "      <td>NaN</td>\n",
              "      <td>NaN</td>\n",
              "      <td>NaN</td>\n",
              "      <td>1.66</td>\n",
              "      <td>NaN</td>\n",
              "      <td>NaN</td>\n",
              "      <td>NaN</td>\n",
              "    </tr>\n",
              "    <tr>\n",
              "      <th>...</th>\n",
              "      <td>...</td>\n",
              "      <td>...</td>\n",
              "      <td>...</td>\n",
              "      <td>...</td>\n",
              "      <td>...</td>\n",
              "      <td>...</td>\n",
              "      <td>...</td>\n",
              "      <td>...</td>\n",
              "      <td>...</td>\n",
              "      <td>...</td>\n",
              "      <td>...</td>\n",
              "      <td>...</td>\n",
              "      <td>...</td>\n",
              "      <td>...</td>\n",
              "      <td>...</td>\n",
              "      <td>...</td>\n",
              "      <td>...</td>\n",
              "      <td>...</td>\n",
              "      <td>...</td>\n",
              "      <td>...</td>\n",
              "      <td>...</td>\n",
              "    </tr>\n",
              "    <tr>\n",
              "      <th>732</th>\n",
              "      <td>Wheat-Winter, for straw</td>\n",
              "      <td>Triticum sp.</td>\n",
              "      <td>TRITI</td>\n",
              "      <td>N,P,K</td>\n",
              "      <td>Straw</td>\n",
              "      <td>Cereal and oil</td>\n",
              "      <td>lb straw/bu grain</td>\n",
              "      <td>92.475</td>\n",
              "      <td>9.22</td>\n",
              "      <td>0.6389573102</td>\n",
              "      <td>...</td>\n",
              "      <td>0.62</td>\n",
              "      <td>0.07</td>\n",
              "      <td>NaN</td>\n",
              "      <td>NaN</td>\n",
              "      <td>NaN</td>\n",
              "      <td>NaN</td>\n",
              "      <td>1.18</td>\n",
              "      <td>NaN</td>\n",
              "      <td>NaN</td>\n",
              "      <td>NaN</td>\n",
              "    </tr>\n",
              "    <tr>\n",
              "      <th>733</th>\n",
              "      <td>Wildrice, for grain</td>\n",
              "      <td>Zizania palustris</td>\n",
              "      <td>ZIPA3</td>\n",
              "      <td>N,P,K</td>\n",
              "      <td>Caryopsis</td>\n",
              "      <td>Cereal and oil</td>\n",
              "      <td>lb of caryopsis</td>\n",
              "      <td>1.000</td>\n",
              "      <td>37.50</td>\n",
              "      <td>2.64432</td>\n",
              "      <td>...</td>\n",
              "      <td>NaN</td>\n",
              "      <td>NaN</td>\n",
              "      <td>NaN</td>\n",
              "      <td>NaN</td>\n",
              "      <td>NaN</td>\n",
              "      <td>NaN</td>\n",
              "      <td>NaN</td>\n",
              "      <td>NaN</td>\n",
              "      <td>NaN</td>\n",
              "      <td>NaN</td>\n",
              "    </tr>\n",
              "    <tr>\n",
              "      <th>734</th>\n",
              "      <td>Wildrice, for straw</td>\n",
              "      <td>Zizania palustris</td>\n",
              "      <td>ZIPA3</td>\n",
              "      <td>N,P,K</td>\n",
              "      <td>Straw</td>\n",
              "      <td>Cereal and oil</td>\n",
              "      <td>lb straw/lb grain</td>\n",
              "      <td>1.310</td>\n",
              "      <td>9.20</td>\n",
              "      <td>0.809</td>\n",
              "      <td>...</td>\n",
              "      <td>NaN</td>\n",
              "      <td>NaN</td>\n",
              "      <td>NaN</td>\n",
              "      <td>NaN</td>\n",
              "      <td>NaN</td>\n",
              "      <td>NaN</td>\n",
              "      <td>NaN</td>\n",
              "      <td>NaN</td>\n",
              "      <td>NaN</td>\n",
              "      <td>NaN</td>\n",
              "    </tr>\n",
              "    <tr>\n",
              "      <th>735</th>\n",
              "      <td>Yam</td>\n",
              "      <td>Dioscorea sp.</td>\n",
              "      <td>DIOSC</td>\n",
              "      <td>N,P,K</td>\n",
              "      <td>Tuber</td>\n",
              "      <td>Vegetable</td>\n",
              "      <td>lb of tuber</td>\n",
              "      <td>1.000</td>\n",
              "      <td>74.00</td>\n",
              "      <td>1.1076923077</td>\n",
              "      <td>...</td>\n",
              "      <td>NaN</td>\n",
              "      <td>NaN</td>\n",
              "      <td>NaN</td>\n",
              "      <td>NaN</td>\n",
              "      <td>0.065</td>\n",
              "      <td>NaN</td>\n",
              "      <td>NaN</td>\n",
              "      <td>NaN</td>\n",
              "      <td>NaN</td>\n",
              "      <td>0.6</td>\n",
              "    </tr>\n",
              "    <tr>\n",
              "      <th>736</th>\n",
              "      <td>Barbados Cherry</td>\n",
              "      <td>Malpighia emarginata</td>\n",
              "      <td>MAEM</td>\n",
              "      <td>N,P,K</td>\n",
              "      <td>Fruit</td>\n",
              "      <td>Tree and fruit</td>\n",
              "      <td>lb of fruit</td>\n",
              "      <td>1.000</td>\n",
              "      <td>91.41</td>\n",
              "      <td>0.7450523865</td>\n",
              "      <td>...</td>\n",
              "      <td>NaN</td>\n",
              "      <td>NaN</td>\n",
              "      <td>0.011</td>\n",
              "      <td>NaN</td>\n",
              "      <td>NaN</td>\n",
              "      <td>NaN</td>\n",
              "      <td>NaN</td>\n",
              "      <td>0.146</td>\n",
              "      <td>NaN</td>\n",
              "      <td>NaN</td>\n",
              "    </tr>\n",
              "  </tbody>\n",
              "</table>\n",
              "<p>737 rows × 161 columns</p>\n",
              "</div>\n",
              "      <button class=\"colab-df-convert\" onclick=\"convertToInteractive('df-2dc201c1-b720-4727-9be5-60f7978574c0')\"\n",
              "              title=\"Convert this dataframe to an interactive table.\"\n",
              "              style=\"display:none;\">\n",
              "        \n",
              "  <svg xmlns=\"http://www.w3.org/2000/svg\" height=\"24px\"viewBox=\"0 0 24 24\"\n",
              "       width=\"24px\">\n",
              "    <path d=\"M0 0h24v24H0V0z\" fill=\"none\"/>\n",
              "    <path d=\"M18.56 5.44l.94 2.06.94-2.06 2.06-.94-2.06-.94-.94-2.06-.94 2.06-2.06.94zm-11 1L8.5 8.5l.94-2.06 2.06-.94-2.06-.94L8.5 2.5l-.94 2.06-2.06.94zm10 10l.94 2.06.94-2.06 2.06-.94-2.06-.94-.94-2.06-.94 2.06-2.06.94z\"/><path d=\"M17.41 7.96l-1.37-1.37c-.4-.4-.92-.59-1.43-.59-.52 0-1.04.2-1.43.59L10.3 9.45l-7.72 7.72c-.78.78-.78 2.05 0 2.83L4 21.41c.39.39.9.59 1.41.59.51 0 1.02-.2 1.41-.59l7.78-7.78 2.81-2.81c.8-.78.8-2.07 0-2.86zM5.41 20L4 18.59l7.72-7.72 1.47 1.35L5.41 20z\"/>\n",
              "  </svg>\n",
              "      </button>\n",
              "      \n",
              "  <style>\n",
              "    .colab-df-container {\n",
              "      display:flex;\n",
              "      flex-wrap:wrap;\n",
              "      gap: 12px;\n",
              "    }\n",
              "\n",
              "    .colab-df-convert {\n",
              "      background-color: #E8F0FE;\n",
              "      border: none;\n",
              "      border-radius: 50%;\n",
              "      cursor: pointer;\n",
              "      display: none;\n",
              "      fill: #1967D2;\n",
              "      height: 32px;\n",
              "      padding: 0 0 0 0;\n",
              "      width: 32px;\n",
              "    }\n",
              "\n",
              "    .colab-df-convert:hover {\n",
              "      background-color: #E2EBFA;\n",
              "      box-shadow: 0px 1px 2px rgba(60, 64, 67, 0.3), 0px 1px 3px 1px rgba(60, 64, 67, 0.15);\n",
              "      fill: #174EA6;\n",
              "    }\n",
              "\n",
              "    [theme=dark] .colab-df-convert {\n",
              "      background-color: #3B4455;\n",
              "      fill: #D2E3FC;\n",
              "    }\n",
              "\n",
              "    [theme=dark] .colab-df-convert:hover {\n",
              "      background-color: #434B5C;\n",
              "      box-shadow: 0px 1px 3px 1px rgba(0, 0, 0, 0.15);\n",
              "      filter: drop-shadow(0px 1px 2px rgba(0, 0, 0, 0.3));\n",
              "      fill: #FFFFFF;\n",
              "    }\n",
              "  </style>\n",
              "\n",
              "      <script>\n",
              "        const buttonEl =\n",
              "          document.querySelector('#df-2dc201c1-b720-4727-9be5-60f7978574c0 button.colab-df-convert');\n",
              "        buttonEl.style.display =\n",
              "          google.colab.kernel.accessAllowed ? 'block' : 'none';\n",
              "\n",
              "        async function convertToInteractive(key) {\n",
              "          const element = document.querySelector('#df-2dc201c1-b720-4727-9be5-60f7978574c0');\n",
              "          const dataTable =\n",
              "            await google.colab.kernel.invokeFunction('convertToInteractive',\n",
              "                                                     [key], {});\n",
              "          if (!dataTable) return;\n",
              "\n",
              "          const docLinkHtml = 'Like what you see? Visit the ' +\n",
              "            '<a target=\"_blank\" href=https://colab.research.google.com/notebooks/data_table.ipynb>data table notebook</a>'\n",
              "            + ' to learn more about interactive tables.';\n",
              "          element.innerHTML = '';\n",
              "          dataTable['output_type'] = 'display_data';\n",
              "          await google.colab.output.renderOutput(dataTable, element);\n",
              "          const docLink = document.createElement('div');\n",
              "          docLink.innerHTML = docLinkHtml;\n",
              "          element.appendChild(docLink);\n",
              "        }\n",
              "      </script>\n",
              "    </div>\n",
              "  </div>\n",
              "  "
            ]
          },
          "metadata": {},
          "execution_count": 19
        }
      ],
      "source": [
        "import pandas as pd\n",
        "import numpy as np\n",
        "import matplotlib.pyplot as plt\n",
        "import seaborn as sns\n",
        "\n",
        "df = pd.read_csv('/content/crops.csv')\n",
        "df"
      ]
    },
    {
      "cell_type": "code",
      "source": [
        "df.shape"
      ],
      "metadata": {
        "colab": {
          "base_uri": "https://localhost:8080/"
        },
        "id": "3a8AMYfTwYed",
        "outputId": "0d8f8818-13dc-46ee-c8ee-5191a6dade36"
      },
      "execution_count": null,
      "outputs": [
        {
          "output_type": "execute_result",
          "data": {
            "text/plain": [
              "(737, 161)"
            ]
          },
          "metadata": {},
          "execution_count": 2
        }
      ]
    },
    {
      "cell_type": "markdown",
      "source": [
        "Выведем столбцы"
      ],
      "metadata": {
        "id": "7N23VJ3ryYEk"
      }
    },
    {
      "cell_type": "code",
      "source": [
        "[ col for col in df.columns]"
      ],
      "metadata": {
        "colab": {
          "base_uri": "https://localhost:8080/"
        },
        "id": "BQ3eKusDwcuS",
        "outputId": "115e2045-8f4f-4813-8903-b126528e45b7"
      },
      "execution_count": null,
      "outputs": [
        {
          "output_type": "execute_result",
          "data": {
            "text/plain": [
              "['Crop',\n",
              " 'ScientificName',\n",
              " 'Symbol',\n",
              " 'NuContAvailable',\n",
              " 'PlantPartHarvested',\n",
              " 'CropCategory',\n",
              " 'YieldUnit',\n",
              " 'AvYieldUnitWeight(lb)',\n",
              " 'AvMoisture%',\n",
              " 'AvN%(dry)',\n",
              " 'AvP%(dry)',\n",
              " 'AvK%(dry)',\n",
              " 'YieldUnitWeight(lb)_set',\n",
              " 'YieldUnitWeight(lb)_Bau',\n",
              " 'YieldUnitWeight(lb)_Joh',\n",
              " 'YieldUnitWeight(lb)_Roberts',\n",
              " 'YieldUnitWeight(lb)_WEEP',\n",
              " 'YieldUnitWeight(lb)_Men',\n",
              " 'YieldUnitWeight(lb)_Guy',\n",
              " 'YieldUnitWeight(lb)_Mc',\n",
              " 'YieldUnitWeight(lb)_Mah',\n",
              " 'YieldUnitWeight(lb)_Sha',\n",
              " 'YieldUnitWeight(lb)_Sch',\n",
              " 'YieldUnitWeight(lb)_Atu',\n",
              " 'YieldUnitWeight(lb)_Zim',\n",
              " 'YieldUnitWeight(lb)_Scu',\n",
              " 'YieldUnitWeight(lb)_John',\n",
              " 'YieldUnitWeight(lb)_Arc',\n",
              " 'DryMatter%_M-FF',\n",
              " 'DryMatter%_NAS',\n",
              " 'DryMatter%_F&L',\n",
              " 'DryMatter%_F&N',\n",
              " 'DryMatter%_Alb',\n",
              " 'DryMatter%_Est1',\n",
              " 'DryMatter%_Est2',\n",
              " 'DryMatter%_Est3',\n",
              " 'DryMatter%_Est4',\n",
              " 'DryMatter%_Est5',\n",
              " 'DryMatter%_Est6',\n",
              " 'DryMatter%_M&R',\n",
              " 'DryMatter%_M&L',\n",
              " 'DryMatter%_Sun',\n",
              " 'DryMatter%_Gro',\n",
              " 'DryMatter%_AgH8-9',\n",
              " 'DryMatter%_AgH8-12',\n",
              " 'DryMatter%_B788',\n",
              " 'AvDryMatter%',\n",
              " 'N%(dry)_NAS',\n",
              " 'N%(dry)_F&L',\n",
              " 'N%(dry)_F&N',\n",
              " 'N%(dry)_Swa',\n",
              " 'N%(dry)_Chapko',\n",
              " 'N%(dry)_Hill',\n",
              " 'N%(dry)_Bru',\n",
              " 'N%(dry)_AgH8-9',\n",
              " 'N%(dry)_AgH8-12',\n",
              " 'N%(dry)_B788',\n",
              " 'N%(dry)_M&L',\n",
              " 'N%(dry)_M-FF',\n",
              " 'N%(dry)_M&R',\n",
              " 'N%(dry)_Foster',\n",
              " 'N%(dry)_Rob1',\n",
              " 'N%(dry)_Rob2',\n",
              " 'N%(dry)_Coa',\n",
              " 'N%(dry)_And',\n",
              " 'N%(dry)_Gol1',\n",
              " 'N%(dry)_Gol2',\n",
              " 'N%(dry)_Wol',\n",
              " 'N%(dry)_Pete',\n",
              " 'N%(dry)_Col',\n",
              " 'N%(dry)_Alb',\n",
              " 'N%(dry)_Arc',\n",
              " 'N%(dry)_Bis',\n",
              " 'N%(dry)_Gar',\n",
              " 'N%(dry)_Heg',\n",
              " 'N%(dry)_Flo',\n",
              " 'N%(dry)_Feil',\n",
              " 'N%(dry)_Bre',\n",
              " 'N%(dry)_Burns',\n",
              " 'N%(dry)_Coc',\n",
              " 'P%(dry)_M-FF',\n",
              " 'P%(dry)_NAS',\n",
              " 'P%(dry)_F&L',\n",
              " 'P%(dry)_F&N',\n",
              " 'P%(dry)_AgH8-9',\n",
              " 'P%(dry)_AgH8-12',\n",
              " 'P%(dry)_B788',\n",
              " 'P%(dry)_M&L',\n",
              " 'P%(dry)_L&V',\n",
              " 'P%(dry)_Foster',\n",
              " 'P%(dry)_Rob1',\n",
              " 'P%(dry)_Rob2',\n",
              " 'P%(dry)_Coa',\n",
              " 'P%(dry)_And',\n",
              " 'P%(dry)_Gol1',\n",
              " 'P%(dry)_Gol2',\n",
              " 'P%(dry)_Sims',\n",
              " 'P%(dry)_Wol',\n",
              " 'P%(dry)_Pete',\n",
              " 'P%(dry)_Col',\n",
              " 'P%(dry)_Alb',\n",
              " 'P%(dry)_Arc',\n",
              " 'P%(dry)_Swa',\n",
              " 'P%(dry)_Rei',\n",
              " 'K%(dry)_M-FF',\n",
              " 'K%(dry)_NAS',\n",
              " 'K%(dry)_F&L',\n",
              " 'K%(dry)_F&N',\n",
              " 'K%(dry)_AgH8-9',\n",
              " 'K%(dry)_AgH8-12',\n",
              " 'K%(dry)_B788',\n",
              " 'K%(dry)_Foster',\n",
              " 'K%(dry)_Rob1',\n",
              " 'K%(dry)_Rob2',\n",
              " 'K%(dry)_Coa',\n",
              " 'K%(dry)_And',\n",
              " 'K%(dry)_Gol1',\n",
              " 'K%(dry)_Gol2',\n",
              " 'K%(dry)_Sims',\n",
              " 'K%(dry)_Wol',\n",
              " 'K%(dry)_Pete',\n",
              " 'K%(dry)_Col',\n",
              " 'K%(dry)_Alb',\n",
              " 'K%(dry)_Arc',\n",
              " 'K%(dry)_Swa',\n",
              " 'K%(dry)_Rei',\n",
              " 'Moisture%_M&R',\n",
              " 'Moisture%_M&L',\n",
              " 'Moisture%_Sun',\n",
              " 'Moisture%_Gro',\n",
              " 'gWater/100g_AgH8-9',\n",
              " 'gWater/100g_AgH8-12',\n",
              " 'gWater/100g_B788',\n",
              " 'Protein%(dry)_NAS',\n",
              " 'Protein%(dry)_F&L',\n",
              " 'Protein%(dry)_F&N',\n",
              " 'Protein%(dry)_Swa',\n",
              " 'Protein%(dry)_Chapko',\n",
              " 'Protein%(dry)_Hill',\n",
              " 'Protein%(dry)_Bru',\n",
              " 'Protein%(dry)_Bis',\n",
              " 'Protein%(dry)_Gar',\n",
              " 'Protein%(dry)_Heg',\n",
              " 'Protein%(dry)_Flo',\n",
              " 'Protein%(dry)_Feil',\n",
              " 'Protein%(dry)_Bre',\n",
              " 'Protein%(dry)_Burns',\n",
              " 'gProtein/100g(wet)_AgH8-9',\n",
              " 'gProtein/100g(wet)_AgH8-12',\n",
              " 'gProtein/100g(wet)_B788',\n",
              " 'Protein%(wet)_M&L',\n",
              " 'N%(wet)_M-FF',\n",
              " 'P%(wet)_M-FF',\n",
              " 'gP/100g(wet)_AgH8-9',\n",
              " 'gP/100g(wet)_AgH8-12',\n",
              " 'gP/100g(wet)_B788',\n",
              " 'P%(wet)_M&L',\n",
              " 'K%(wet)_M-FF',\n",
              " 'gK/100g(wet)_AgH8-9',\n",
              " 'gK/100g(wet)_AgH8-12',\n",
              " 'gK/100g(wet)_B788']"
            ]
          },
          "metadata": {},
          "execution_count": 3
        }
      ]
    },
    {
      "cell_type": "code",
      "source": [],
      "metadata": {
        "id": "b9IDO_Qa4Y7Y"
      },
      "execution_count": null,
      "outputs": []
    },
    {
      "cell_type": "markdown",
      "source": [
        "Как видно из блока выше, в наборе данных много столбцов. Было принято решение ограничится следующими из них:\n",
        "\n",
        "*   Crop (Культура)\n",
        "*   PlantPartHarvested (Собранная часть растения)\n",
        "*   CropCategory (Категория культуры)\n",
        "*   AvMoisture% (Средняя влажнотсь)\n",
        "*   AvN%(dry) (Среднее содержание Азота)\n",
        "*   AvP%(dry) (Среднее содержание Фосфора)\n",
        "*   AvK%(dry) (Среднее содержание Калия)\n",
        "\n"
      ],
      "metadata": {
        "id": "yBpA5BSkwvRk"
      }
    },
    {
      "cell_type": "code",
      "source": [
        "df1 = df[[\n",
        " 'Crop',\n",
        " 'PlantPartHarvested',\n",
        " 'CropCategory',\n",
        " 'AvMoisture%',\n",
        " 'AvN%(dry)',\n",
        " 'AvP%(dry)',\n",
        " 'AvK%(dry)',\n",
        "]]\n",
        "\n",
        "df1"
      ],
      "metadata": {
        "colab": {
          "base_uri": "https://localhost:8080/",
          "height": 424
        },
        "id": "zl0irCBew2aC",
        "outputId": "d199f98c-7bcb-447a-e194-421fe39e7e5e"
      },
      "execution_count": null,
      "outputs": [
        {
          "output_type": "execute_result",
          "data": {
            "text/plain": [
              "                                        Crop   PlantPartHarvested  \\\n",
              "0                                      Acorn                Fruit   \n",
              "1            Alfalfa + Orchardgrass, for hay  Aboveground biomass   \n",
              "2    Alfalfa + Orchardgrass, for hay (cut 1)  Aboveground biomass   \n",
              "3     Alfalfa + Smooth Brome, for green chop  Aboveground biomass   \n",
              "4            Alfalfa + Smooth Brome, for hay  Aboveground biomass   \n",
              "..                                       ...                  ...   \n",
              "732                  Wheat-Winter, for straw                Straw   \n",
              "733                      Wildrice, for grain            Caryopsis   \n",
              "734                      Wildrice, for straw                Straw   \n",
              "735                                      Yam                Tuber   \n",
              "736                          Barbados Cherry                Fruit   \n",
              "\n",
              "       CropCategory  AvMoisture%     AvN%(dry)       AvP%(dry)      AvK%(dry)  \n",
              "0    Tree and fruit        27.90  1.3647711512   0.10957004161  0.74757281553  \n",
              "1            Forage         9.70  2.4797142857   0.26785714286        #DIV/0!  \n",
              "2            Forage         7.95         2.144             0.2           1.49  \n",
              "3            Forage        77.63  3.3220740741   0.31055555556            2.8  \n",
              "4            Forage        11.58  2.4177085202   0.27105381166   1.8977466368  \n",
              "..              ...          ...           ...             ...            ...  \n",
              "732  Cereal and oil         9.22  0.6389573102  0.063898488121    1.173574514  \n",
              "733  Cereal and oil        37.50       2.64432          0.4995          0.489  \n",
              "734  Cereal and oil         9.20         0.809            0.11          0.788  \n",
              "735       Vegetable        74.00  1.1076923077            0.25   2.3076923077  \n",
              "736  Tree and fruit        91.41  0.7450523865   0.12805587893   1.6996507567  \n",
              "\n",
              "[737 rows x 7 columns]"
            ],
            "text/html": [
              "\n",
              "  <div id=\"df-919b746d-4caa-43c0-b738-872980c476e7\">\n",
              "    <div class=\"colab-df-container\">\n",
              "      <div>\n",
              "<style scoped>\n",
              "    .dataframe tbody tr th:only-of-type {\n",
              "        vertical-align: middle;\n",
              "    }\n",
              "\n",
              "    .dataframe tbody tr th {\n",
              "        vertical-align: top;\n",
              "    }\n",
              "\n",
              "    .dataframe thead th {\n",
              "        text-align: right;\n",
              "    }\n",
              "</style>\n",
              "<table border=\"1\" class=\"dataframe\">\n",
              "  <thead>\n",
              "    <tr style=\"text-align: right;\">\n",
              "      <th></th>\n",
              "      <th>Crop</th>\n",
              "      <th>PlantPartHarvested</th>\n",
              "      <th>CropCategory</th>\n",
              "      <th>AvMoisture%</th>\n",
              "      <th>AvN%(dry)</th>\n",
              "      <th>AvP%(dry)</th>\n",
              "      <th>AvK%(dry)</th>\n",
              "    </tr>\n",
              "  </thead>\n",
              "  <tbody>\n",
              "    <tr>\n",
              "      <th>0</th>\n",
              "      <td>Acorn</td>\n",
              "      <td>Fruit</td>\n",
              "      <td>Tree and fruit</td>\n",
              "      <td>27.90</td>\n",
              "      <td>1.3647711512</td>\n",
              "      <td>0.10957004161</td>\n",
              "      <td>0.74757281553</td>\n",
              "    </tr>\n",
              "    <tr>\n",
              "      <th>1</th>\n",
              "      <td>Alfalfa + Orchardgrass, for hay</td>\n",
              "      <td>Aboveground biomass</td>\n",
              "      <td>Forage</td>\n",
              "      <td>9.70</td>\n",
              "      <td>2.4797142857</td>\n",
              "      <td>0.26785714286</td>\n",
              "      <td>#DIV/0!</td>\n",
              "    </tr>\n",
              "    <tr>\n",
              "      <th>2</th>\n",
              "      <td>Alfalfa + Orchardgrass, for hay (cut 1)</td>\n",
              "      <td>Aboveground biomass</td>\n",
              "      <td>Forage</td>\n",
              "      <td>7.95</td>\n",
              "      <td>2.144</td>\n",
              "      <td>0.2</td>\n",
              "      <td>1.49</td>\n",
              "    </tr>\n",
              "    <tr>\n",
              "      <th>3</th>\n",
              "      <td>Alfalfa + Smooth Brome, for green chop</td>\n",
              "      <td>Aboveground biomass</td>\n",
              "      <td>Forage</td>\n",
              "      <td>77.63</td>\n",
              "      <td>3.3220740741</td>\n",
              "      <td>0.31055555556</td>\n",
              "      <td>2.8</td>\n",
              "    </tr>\n",
              "    <tr>\n",
              "      <th>4</th>\n",
              "      <td>Alfalfa + Smooth Brome, for hay</td>\n",
              "      <td>Aboveground biomass</td>\n",
              "      <td>Forage</td>\n",
              "      <td>11.58</td>\n",
              "      <td>2.4177085202</td>\n",
              "      <td>0.27105381166</td>\n",
              "      <td>1.8977466368</td>\n",
              "    </tr>\n",
              "    <tr>\n",
              "      <th>...</th>\n",
              "      <td>...</td>\n",
              "      <td>...</td>\n",
              "      <td>...</td>\n",
              "      <td>...</td>\n",
              "      <td>...</td>\n",
              "      <td>...</td>\n",
              "      <td>...</td>\n",
              "    </tr>\n",
              "    <tr>\n",
              "      <th>732</th>\n",
              "      <td>Wheat-Winter, for straw</td>\n",
              "      <td>Straw</td>\n",
              "      <td>Cereal and oil</td>\n",
              "      <td>9.22</td>\n",
              "      <td>0.6389573102</td>\n",
              "      <td>0.063898488121</td>\n",
              "      <td>1.173574514</td>\n",
              "    </tr>\n",
              "    <tr>\n",
              "      <th>733</th>\n",
              "      <td>Wildrice, for grain</td>\n",
              "      <td>Caryopsis</td>\n",
              "      <td>Cereal and oil</td>\n",
              "      <td>37.50</td>\n",
              "      <td>2.64432</td>\n",
              "      <td>0.4995</td>\n",
              "      <td>0.489</td>\n",
              "    </tr>\n",
              "    <tr>\n",
              "      <th>734</th>\n",
              "      <td>Wildrice, for straw</td>\n",
              "      <td>Straw</td>\n",
              "      <td>Cereal and oil</td>\n",
              "      <td>9.20</td>\n",
              "      <td>0.809</td>\n",
              "      <td>0.11</td>\n",
              "      <td>0.788</td>\n",
              "    </tr>\n",
              "    <tr>\n",
              "      <th>735</th>\n",
              "      <td>Yam</td>\n",
              "      <td>Tuber</td>\n",
              "      <td>Vegetable</td>\n",
              "      <td>74.00</td>\n",
              "      <td>1.1076923077</td>\n",
              "      <td>0.25</td>\n",
              "      <td>2.3076923077</td>\n",
              "    </tr>\n",
              "    <tr>\n",
              "      <th>736</th>\n",
              "      <td>Barbados Cherry</td>\n",
              "      <td>Fruit</td>\n",
              "      <td>Tree and fruit</td>\n",
              "      <td>91.41</td>\n",
              "      <td>0.7450523865</td>\n",
              "      <td>0.12805587893</td>\n",
              "      <td>1.6996507567</td>\n",
              "    </tr>\n",
              "  </tbody>\n",
              "</table>\n",
              "<p>737 rows × 7 columns</p>\n",
              "</div>\n",
              "      <button class=\"colab-df-convert\" onclick=\"convertToInteractive('df-919b746d-4caa-43c0-b738-872980c476e7')\"\n",
              "              title=\"Convert this dataframe to an interactive table.\"\n",
              "              style=\"display:none;\">\n",
              "        \n",
              "  <svg xmlns=\"http://www.w3.org/2000/svg\" height=\"24px\"viewBox=\"0 0 24 24\"\n",
              "       width=\"24px\">\n",
              "    <path d=\"M0 0h24v24H0V0z\" fill=\"none\"/>\n",
              "    <path d=\"M18.56 5.44l.94 2.06.94-2.06 2.06-.94-2.06-.94-.94-2.06-.94 2.06-2.06.94zm-11 1L8.5 8.5l.94-2.06 2.06-.94-2.06-.94L8.5 2.5l-.94 2.06-2.06.94zm10 10l.94 2.06.94-2.06 2.06-.94-2.06-.94-.94-2.06-.94 2.06-2.06.94z\"/><path d=\"M17.41 7.96l-1.37-1.37c-.4-.4-.92-.59-1.43-.59-.52 0-1.04.2-1.43.59L10.3 9.45l-7.72 7.72c-.78.78-.78 2.05 0 2.83L4 21.41c.39.39.9.59 1.41.59.51 0 1.02-.2 1.41-.59l7.78-7.78 2.81-2.81c.8-.78.8-2.07 0-2.86zM5.41 20L4 18.59l7.72-7.72 1.47 1.35L5.41 20z\"/>\n",
              "  </svg>\n",
              "      </button>\n",
              "      \n",
              "  <style>\n",
              "    .colab-df-container {\n",
              "      display:flex;\n",
              "      flex-wrap:wrap;\n",
              "      gap: 12px;\n",
              "    }\n",
              "\n",
              "    .colab-df-convert {\n",
              "      background-color: #E8F0FE;\n",
              "      border: none;\n",
              "      border-radius: 50%;\n",
              "      cursor: pointer;\n",
              "      display: none;\n",
              "      fill: #1967D2;\n",
              "      height: 32px;\n",
              "      padding: 0 0 0 0;\n",
              "      width: 32px;\n",
              "    }\n",
              "\n",
              "    .colab-df-convert:hover {\n",
              "      background-color: #E2EBFA;\n",
              "      box-shadow: 0px 1px 2px rgba(60, 64, 67, 0.3), 0px 1px 3px 1px rgba(60, 64, 67, 0.15);\n",
              "      fill: #174EA6;\n",
              "    }\n",
              "\n",
              "    [theme=dark] .colab-df-convert {\n",
              "      background-color: #3B4455;\n",
              "      fill: #D2E3FC;\n",
              "    }\n",
              "\n",
              "    [theme=dark] .colab-df-convert:hover {\n",
              "      background-color: #434B5C;\n",
              "      box-shadow: 0px 1px 3px 1px rgba(0, 0, 0, 0.15);\n",
              "      filter: drop-shadow(0px 1px 2px rgba(0, 0, 0, 0.3));\n",
              "      fill: #FFFFFF;\n",
              "    }\n",
              "  </style>\n",
              "\n",
              "      <script>\n",
              "        const buttonEl =\n",
              "          document.querySelector('#df-919b746d-4caa-43c0-b738-872980c476e7 button.colab-df-convert');\n",
              "        buttonEl.style.display =\n",
              "          google.colab.kernel.accessAllowed ? 'block' : 'none';\n",
              "\n",
              "        async function convertToInteractive(key) {\n",
              "          const element = document.querySelector('#df-919b746d-4caa-43c0-b738-872980c476e7');\n",
              "          const dataTable =\n",
              "            await google.colab.kernel.invokeFunction('convertToInteractive',\n",
              "                                                     [key], {});\n",
              "          if (!dataTable) return;\n",
              "\n",
              "          const docLinkHtml = 'Like what you see? Visit the ' +\n",
              "            '<a target=\"_blank\" href=https://colab.research.google.com/notebooks/data_table.ipynb>data table notebook</a>'\n",
              "            + ' to learn more about interactive tables.';\n",
              "          element.innerHTML = '';\n",
              "          dataTable['output_type'] = 'display_data';\n",
              "          await google.colab.output.renderOutput(dataTable, element);\n",
              "          const docLink = document.createElement('div');\n",
              "          docLink.innerHTML = docLinkHtml;\n",
              "          element.appendChild(docLink);\n",
              "        }\n",
              "      </script>\n",
              "    </div>\n",
              "  </div>\n",
              "  "
            ]
          },
          "metadata": {},
          "execution_count": 4
        }
      ]
    },
    {
      "cell_type": "markdown",
      "source": [
        "Проверка наличия нулевых и NaN значений"
      ],
      "metadata": {
        "id": "KZyyP3oiyvaE"
      }
    },
    {
      "cell_type": "code",
      "source": [
        "df1.isnull().sum()"
      ],
      "metadata": {
        "colab": {
          "base_uri": "https://localhost:8080/"
        },
        "id": "Uce-Kbncy0_c",
        "outputId": "18352662-3537-4da4-b2dc-0ebe6f5ffaa4"
      },
      "execution_count": null,
      "outputs": [
        {
          "output_type": "execute_result",
          "data": {
            "text/plain": [
              "Crop                  0\n",
              "PlantPartHarvested    0\n",
              "CropCategory          0\n",
              "AvMoisture%           0\n",
              "AvN%(dry)             0\n",
              "AvP%(dry)             0\n",
              "AvK%(dry)             0\n",
              "dtype: int64"
            ]
          },
          "metadata": {},
          "execution_count": 5
        }
      ]
    },
    {
      "cell_type": "code",
      "source": [
        "df1.isna().sum()"
      ],
      "metadata": {
        "colab": {
          "base_uri": "https://localhost:8080/"
        },
        "id": "DgMtnd1Xy41r",
        "outputId": "1edb389c-0a67-4bfd-8064-e3eb61001b1d"
      },
      "execution_count": null,
      "outputs": [
        {
          "output_type": "execute_result",
          "data": {
            "text/plain": [
              "Crop                  0\n",
              "PlantPartHarvested    0\n",
              "CropCategory          0\n",
              "AvMoisture%           0\n",
              "AvN%(dry)             0\n",
              "AvP%(dry)             0\n",
              "AvK%(dry)             0\n",
              "dtype: int64"
            ]
          },
          "metadata": {},
          "execution_count": 6
        }
      ]
    },
    {
      "cell_type": "markdown",
      "source": [
        "Выведем типы данных"
      ],
      "metadata": {
        "id": "TY9bDt9nzr7b"
      }
    },
    {
      "cell_type": "code",
      "source": [
        "df1.dtypes"
      ],
      "metadata": {
        "colab": {
          "base_uri": "https://localhost:8080/"
        },
        "id": "hszrpzx9zVJb",
        "outputId": "e5752881-4502-4309-8268-ac2a7dd06814"
      },
      "execution_count": null,
      "outputs": [
        {
          "output_type": "execute_result",
          "data": {
            "text/plain": [
              "Crop                   object\n",
              "PlantPartHarvested     object\n",
              "CropCategory           object\n",
              "AvMoisture%           float64\n",
              "AvN%(dry)              object\n",
              "AvP%(dry)              object\n",
              "AvK%(dry)              object\n",
              "dtype: object"
            ]
          },
          "metadata": {},
          "execution_count": 8
        }
      ]
    },
    {
      "cell_type": "markdown",
      "source": [
        "Заметим, что pandas рассматривает столбцы питательных веществ (N, P, K) как объекты. Как видно из предпросмотра df1 - #DIV/0! (неверное значение) содержится в столбце AvK% в 1ой строке. Выясним, распространено ли это во всем наборе данных для (N, P, K)."
      ],
      "metadata": {
        "id": "g1sVijIJzvpT"
      }
    },
    {
      "cell_type": "code",
      "source": [
        "print(\"AvN%(dry): \", df1[df1[\"AvN%(dry)\"] == '#DIV/0!'].shape[0])\n",
        "print(\"AvP%(dry): \", df1[df1[\"AvP%(dry)\"] == '#DIV/0!'].shape[0])\n",
        "print(\"AvK%(dry): \", df1[df1[\"AvK%(dry)\"] == '#DIV/0!'].shape[0])"
      ],
      "metadata": {
        "colab": {
          "base_uri": "https://localhost:8080/"
        },
        "id": "fQkfY51t0j_M",
        "outputId": "9a2da319-efcc-4adc-99e1-c8d709fce08d"
      },
      "execution_count": null,
      "outputs": [
        {
          "output_type": "stream",
          "name": "stdout",
          "text": [
            "AvN%(dry):  9\n",
            "AvP%(dry):  126\n",
            "AvK%(dry):  205\n"
          ]
        }
      ]
    },
    {
      "cell_type": "markdown",
      "source": [
        "Обнаружим, что #DIV/0! значения имеются в любой из колонок питательных веществ\n",
        "\n",
        "Вернемся к исходному набору данных и посмтрим столбец NuContAvailable который показывает доступные питательные вещества. Выведем его вместе со столбцами среднего содержания питательных веществ"
      ],
      "metadata": {
        "id": "Hu21jIYP1__W"
      }
    },
    {
      "cell_type": "code",
      "source": [
        "nutrients_df = df[['NuContAvailable', 'AvN%(dry)', 'AvP%(dry)', 'AvK%(dry)']]\n",
        "nutrients_df.head()"
      ],
      "metadata": {
        "colab": {
          "base_uri": "https://localhost:8080/",
          "height": 206
        },
        "id": "eynodRvK2HVT",
        "outputId": "137aa34e-93aa-4047-9a6e-876395aae9c3"
      },
      "execution_count": null,
      "outputs": [
        {
          "output_type": "execute_result",
          "data": {
            "text/plain": [
              "  NuContAvailable     AvN%(dry)      AvP%(dry)      AvK%(dry)\n",
              "0           N,P,K  1.3647711512  0.10957004161  0.74757281553\n",
              "1             N,P  2.4797142857  0.26785714286        #DIV/0!\n",
              "2           N,P,K         2.144            0.2           1.49\n",
              "3           N,P,K  3.3220740741  0.31055555556            2.8\n",
              "4           N,P,K  2.4177085202  0.27105381166   1.8977466368"
            ],
            "text/html": [
              "\n",
              "  <div id=\"df-4e382219-fa10-47d8-9ef1-43d7d19001b2\">\n",
              "    <div class=\"colab-df-container\">\n",
              "      <div>\n",
              "<style scoped>\n",
              "    .dataframe tbody tr th:only-of-type {\n",
              "        vertical-align: middle;\n",
              "    }\n",
              "\n",
              "    .dataframe tbody tr th {\n",
              "        vertical-align: top;\n",
              "    }\n",
              "\n",
              "    .dataframe thead th {\n",
              "        text-align: right;\n",
              "    }\n",
              "</style>\n",
              "<table border=\"1\" class=\"dataframe\">\n",
              "  <thead>\n",
              "    <tr style=\"text-align: right;\">\n",
              "      <th></th>\n",
              "      <th>NuContAvailable</th>\n",
              "      <th>AvN%(dry)</th>\n",
              "      <th>AvP%(dry)</th>\n",
              "      <th>AvK%(dry)</th>\n",
              "    </tr>\n",
              "  </thead>\n",
              "  <tbody>\n",
              "    <tr>\n",
              "      <th>0</th>\n",
              "      <td>N,P,K</td>\n",
              "      <td>1.3647711512</td>\n",
              "      <td>0.10957004161</td>\n",
              "      <td>0.74757281553</td>\n",
              "    </tr>\n",
              "    <tr>\n",
              "      <th>1</th>\n",
              "      <td>N,P</td>\n",
              "      <td>2.4797142857</td>\n",
              "      <td>0.26785714286</td>\n",
              "      <td>#DIV/0!</td>\n",
              "    </tr>\n",
              "    <tr>\n",
              "      <th>2</th>\n",
              "      <td>N,P,K</td>\n",
              "      <td>2.144</td>\n",
              "      <td>0.2</td>\n",
              "      <td>1.49</td>\n",
              "    </tr>\n",
              "    <tr>\n",
              "      <th>3</th>\n",
              "      <td>N,P,K</td>\n",
              "      <td>3.3220740741</td>\n",
              "      <td>0.31055555556</td>\n",
              "      <td>2.8</td>\n",
              "    </tr>\n",
              "    <tr>\n",
              "      <th>4</th>\n",
              "      <td>N,P,K</td>\n",
              "      <td>2.4177085202</td>\n",
              "      <td>0.27105381166</td>\n",
              "      <td>1.8977466368</td>\n",
              "    </tr>\n",
              "  </tbody>\n",
              "</table>\n",
              "</div>\n",
              "      <button class=\"colab-df-convert\" onclick=\"convertToInteractive('df-4e382219-fa10-47d8-9ef1-43d7d19001b2')\"\n",
              "              title=\"Convert this dataframe to an interactive table.\"\n",
              "              style=\"display:none;\">\n",
              "        \n",
              "  <svg xmlns=\"http://www.w3.org/2000/svg\" height=\"24px\"viewBox=\"0 0 24 24\"\n",
              "       width=\"24px\">\n",
              "    <path d=\"M0 0h24v24H0V0z\" fill=\"none\"/>\n",
              "    <path d=\"M18.56 5.44l.94 2.06.94-2.06 2.06-.94-2.06-.94-.94-2.06-.94 2.06-2.06.94zm-11 1L8.5 8.5l.94-2.06 2.06-.94-2.06-.94L8.5 2.5l-.94 2.06-2.06.94zm10 10l.94 2.06.94-2.06 2.06-.94-2.06-.94-.94-2.06-.94 2.06-2.06.94z\"/><path d=\"M17.41 7.96l-1.37-1.37c-.4-.4-.92-.59-1.43-.59-.52 0-1.04.2-1.43.59L10.3 9.45l-7.72 7.72c-.78.78-.78 2.05 0 2.83L4 21.41c.39.39.9.59 1.41.59.51 0 1.02-.2 1.41-.59l7.78-7.78 2.81-2.81c.8-.78.8-2.07 0-2.86zM5.41 20L4 18.59l7.72-7.72 1.47 1.35L5.41 20z\"/>\n",
              "  </svg>\n",
              "      </button>\n",
              "      \n",
              "  <style>\n",
              "    .colab-df-container {\n",
              "      display:flex;\n",
              "      flex-wrap:wrap;\n",
              "      gap: 12px;\n",
              "    }\n",
              "\n",
              "    .colab-df-convert {\n",
              "      background-color: #E8F0FE;\n",
              "      border: none;\n",
              "      border-radius: 50%;\n",
              "      cursor: pointer;\n",
              "      display: none;\n",
              "      fill: #1967D2;\n",
              "      height: 32px;\n",
              "      padding: 0 0 0 0;\n",
              "      width: 32px;\n",
              "    }\n",
              "\n",
              "    .colab-df-convert:hover {\n",
              "      background-color: #E2EBFA;\n",
              "      box-shadow: 0px 1px 2px rgba(60, 64, 67, 0.3), 0px 1px 3px 1px rgba(60, 64, 67, 0.15);\n",
              "      fill: #174EA6;\n",
              "    }\n",
              "\n",
              "    [theme=dark] .colab-df-convert {\n",
              "      background-color: #3B4455;\n",
              "      fill: #D2E3FC;\n",
              "    }\n",
              "\n",
              "    [theme=dark] .colab-df-convert:hover {\n",
              "      background-color: #434B5C;\n",
              "      box-shadow: 0px 1px 3px 1px rgba(0, 0, 0, 0.15);\n",
              "      filter: drop-shadow(0px 1px 2px rgba(0, 0, 0, 0.3));\n",
              "      fill: #FFFFFF;\n",
              "    }\n",
              "  </style>\n",
              "\n",
              "      <script>\n",
              "        const buttonEl =\n",
              "          document.querySelector('#df-4e382219-fa10-47d8-9ef1-43d7d19001b2 button.colab-df-convert');\n",
              "        buttonEl.style.display =\n",
              "          google.colab.kernel.accessAllowed ? 'block' : 'none';\n",
              "\n",
              "        async function convertToInteractive(key) {\n",
              "          const element = document.querySelector('#df-4e382219-fa10-47d8-9ef1-43d7d19001b2');\n",
              "          const dataTable =\n",
              "            await google.colab.kernel.invokeFunction('convertToInteractive',\n",
              "                                                     [key], {});\n",
              "          if (!dataTable) return;\n",
              "\n",
              "          const docLinkHtml = 'Like what you see? Visit the ' +\n",
              "            '<a target=\"_blank\" href=https://colab.research.google.com/notebooks/data_table.ipynb>data table notebook</a>'\n",
              "            + ' to learn more about interactive tables.';\n",
              "          element.innerHTML = '';\n",
              "          dataTable['output_type'] = 'display_data';\n",
              "          await google.colab.output.renderOutput(dataTable, element);\n",
              "          const docLink = document.createElement('div');\n",
              "          docLink.innerHTML = docLinkHtml;\n",
              "          element.appendChild(docLink);\n",
              "        }\n",
              "      </script>\n",
              "    </div>\n",
              "  </div>\n",
              "  "
            ]
          },
          "metadata": {},
          "execution_count": 10
        }
      ]
    },
    {
      "cell_type": "markdown",
      "source": [
        "Из 1ой строки видно, что #DIV/0! находится на пересечении AvK%(dry) и N,P (без K) в NuContAvailable, в отличии от остальных строк где K имеется в NuContAvailable\n",
        "\n",
        "Сделаем замену #DIV/0! значений нулевыми значениями. Это согласуется с выводом NuContAvailable, поскольку, если урожай не имеет определенного содержания питательных веществ, то он имеет 0% от него"
      ],
      "metadata": {
        "id": "wmyZ-QBy267E"
      }
    },
    {
      "cell_type": "code",
      "source": [
        "df2 = df1.replace(\"#DIV/0!\", 0)\n",
        "\n",
        "print(\"AvN%(dry): \", df2[df2[\"AvN%(dry)\"] == '#DIV/0!'].shape[0])\n",
        "print(\"AvP%(dry): \", df2[df2[\"AvP%(dry)\"] == '#DIV/0!'].shape[0])\n",
        "print(\"AvK%(dry): \", df2[df2[\"AvK%(dry)\"] == '#DIV/0!'].shape[0])"
      ],
      "metadata": {
        "colab": {
          "base_uri": "https://localhost:8080/"
        },
        "id": "Qv4f5CyY5inT",
        "outputId": "dea860e2-0fd7-44fe-b8e1-7bccdc647efd"
      },
      "execution_count": null,
      "outputs": [
        {
          "output_type": "stream",
          "name": "stdout",
          "text": [
            "AvN%(dry):  0\n",
            "AvP%(dry):  0\n",
            "AvK%(dry):  0\n"
          ]
        }
      ]
    },
    {
      "cell_type": "markdown",
      "source": [
        "Теперь можем привести к числовому типу эти столбцы, для использоваться в нашем анализе."
      ],
      "metadata": {
        "id": "mXFHdGbytlnc"
      }
    },
    {
      "cell_type": "code",
      "source": [
        "df2 = df2.astype({\"AvN%(dry)\": np.float64, \"AvP%(dry)\": np.float64, \"AvK%(dry)\": np.float64})\n",
        "df2.dtypes"
      ],
      "metadata": {
        "colab": {
          "base_uri": "https://localhost:8080/"
        },
        "id": "LiOecaYy5vpQ",
        "outputId": "76989e80-5e79-41d7-e158-7032b232d955"
      },
      "execution_count": null,
      "outputs": [
        {
          "output_type": "execute_result",
          "data": {
            "text/plain": [
              "Crop                   object\n",
              "PlantPartHarvested     object\n",
              "CropCategory           object\n",
              "AvMoisture%           float64\n",
              "AvN%(dry)             float64\n",
              "AvP%(dry)             float64\n",
              "AvK%(dry)             float64\n",
              "dtype: object"
            ]
          },
          "metadata": {},
          "execution_count": 12
        }
      ]
    },
    {
      "cell_type": "code",
      "source": [
        "df2"
      ],
      "metadata": {
        "colab": {
          "base_uri": "https://localhost:8080/",
          "height": 424
        },
        "id": "S9W0RXj36tLC",
        "outputId": "041ebf63-6804-4ea5-c590-47e9e7091d3f"
      },
      "execution_count": null,
      "outputs": [
        {
          "output_type": "execute_result",
          "data": {
            "text/plain": [
              "                                        Crop   PlantPartHarvested  \\\n",
              "0                                      Acorn                Fruit   \n",
              "1            Alfalfa + Orchardgrass, for hay  Aboveground biomass   \n",
              "2    Alfalfa + Orchardgrass, for hay (cut 1)  Aboveground biomass   \n",
              "3     Alfalfa + Smooth Brome, for green chop  Aboveground biomass   \n",
              "4            Alfalfa + Smooth Brome, for hay  Aboveground biomass   \n",
              "..                                       ...                  ...   \n",
              "732                  Wheat-Winter, for straw                Straw   \n",
              "733                      Wildrice, for grain            Caryopsis   \n",
              "734                      Wildrice, for straw                Straw   \n",
              "735                                      Yam                Tuber   \n",
              "736                          Barbados Cherry                Fruit   \n",
              "\n",
              "       CropCategory  AvMoisture%  AvN%(dry)  AvP%(dry)  AvK%(dry)  \n",
              "0    Tree and fruit        27.90   1.364771   0.109570   0.747573  \n",
              "1            Forage         9.70   2.479714   0.267857   0.000000  \n",
              "2            Forage         7.95   2.144000   0.200000   1.490000  \n",
              "3            Forage        77.63   3.322074   0.310556   2.800000  \n",
              "4            Forage        11.58   2.417709   0.271054   1.897747  \n",
              "..              ...          ...        ...        ...        ...  \n",
              "732  Cereal and oil         9.22   0.638957   0.063898   1.173575  \n",
              "733  Cereal and oil        37.50   2.644320   0.499500   0.489000  \n",
              "734  Cereal and oil         9.20   0.809000   0.110000   0.788000  \n",
              "735       Vegetable        74.00   1.107692   0.250000   2.307692  \n",
              "736  Tree and fruit        91.41   0.745052   0.128056   1.699651  \n",
              "\n",
              "[737 rows x 7 columns]"
            ],
            "text/html": [
              "\n",
              "  <div id=\"df-bb5f8aef-78d3-4082-82c3-b3332ee79e51\">\n",
              "    <div class=\"colab-df-container\">\n",
              "      <div>\n",
              "<style scoped>\n",
              "    .dataframe tbody tr th:only-of-type {\n",
              "        vertical-align: middle;\n",
              "    }\n",
              "\n",
              "    .dataframe tbody tr th {\n",
              "        vertical-align: top;\n",
              "    }\n",
              "\n",
              "    .dataframe thead th {\n",
              "        text-align: right;\n",
              "    }\n",
              "</style>\n",
              "<table border=\"1\" class=\"dataframe\">\n",
              "  <thead>\n",
              "    <tr style=\"text-align: right;\">\n",
              "      <th></th>\n",
              "      <th>Crop</th>\n",
              "      <th>PlantPartHarvested</th>\n",
              "      <th>CropCategory</th>\n",
              "      <th>AvMoisture%</th>\n",
              "      <th>AvN%(dry)</th>\n",
              "      <th>AvP%(dry)</th>\n",
              "      <th>AvK%(dry)</th>\n",
              "    </tr>\n",
              "  </thead>\n",
              "  <tbody>\n",
              "    <tr>\n",
              "      <th>0</th>\n",
              "      <td>Acorn</td>\n",
              "      <td>Fruit</td>\n",
              "      <td>Tree and fruit</td>\n",
              "      <td>27.90</td>\n",
              "      <td>1.364771</td>\n",
              "      <td>0.109570</td>\n",
              "      <td>0.747573</td>\n",
              "    </tr>\n",
              "    <tr>\n",
              "      <th>1</th>\n",
              "      <td>Alfalfa + Orchardgrass, for hay</td>\n",
              "      <td>Aboveground biomass</td>\n",
              "      <td>Forage</td>\n",
              "      <td>9.70</td>\n",
              "      <td>2.479714</td>\n",
              "      <td>0.267857</td>\n",
              "      <td>0.000000</td>\n",
              "    </tr>\n",
              "    <tr>\n",
              "      <th>2</th>\n",
              "      <td>Alfalfa + Orchardgrass, for hay (cut 1)</td>\n",
              "      <td>Aboveground biomass</td>\n",
              "      <td>Forage</td>\n",
              "      <td>7.95</td>\n",
              "      <td>2.144000</td>\n",
              "      <td>0.200000</td>\n",
              "      <td>1.490000</td>\n",
              "    </tr>\n",
              "    <tr>\n",
              "      <th>3</th>\n",
              "      <td>Alfalfa + Smooth Brome, for green chop</td>\n",
              "      <td>Aboveground biomass</td>\n",
              "      <td>Forage</td>\n",
              "      <td>77.63</td>\n",
              "      <td>3.322074</td>\n",
              "      <td>0.310556</td>\n",
              "      <td>2.800000</td>\n",
              "    </tr>\n",
              "    <tr>\n",
              "      <th>4</th>\n",
              "      <td>Alfalfa + Smooth Brome, for hay</td>\n",
              "      <td>Aboveground biomass</td>\n",
              "      <td>Forage</td>\n",
              "      <td>11.58</td>\n",
              "      <td>2.417709</td>\n",
              "      <td>0.271054</td>\n",
              "      <td>1.897747</td>\n",
              "    </tr>\n",
              "    <tr>\n",
              "      <th>...</th>\n",
              "      <td>...</td>\n",
              "      <td>...</td>\n",
              "      <td>...</td>\n",
              "      <td>...</td>\n",
              "      <td>...</td>\n",
              "      <td>...</td>\n",
              "      <td>...</td>\n",
              "    </tr>\n",
              "    <tr>\n",
              "      <th>732</th>\n",
              "      <td>Wheat-Winter, for straw</td>\n",
              "      <td>Straw</td>\n",
              "      <td>Cereal and oil</td>\n",
              "      <td>9.22</td>\n",
              "      <td>0.638957</td>\n",
              "      <td>0.063898</td>\n",
              "      <td>1.173575</td>\n",
              "    </tr>\n",
              "    <tr>\n",
              "      <th>733</th>\n",
              "      <td>Wildrice, for grain</td>\n",
              "      <td>Caryopsis</td>\n",
              "      <td>Cereal and oil</td>\n",
              "      <td>37.50</td>\n",
              "      <td>2.644320</td>\n",
              "      <td>0.499500</td>\n",
              "      <td>0.489000</td>\n",
              "    </tr>\n",
              "    <tr>\n",
              "      <th>734</th>\n",
              "      <td>Wildrice, for straw</td>\n",
              "      <td>Straw</td>\n",
              "      <td>Cereal and oil</td>\n",
              "      <td>9.20</td>\n",
              "      <td>0.809000</td>\n",
              "      <td>0.110000</td>\n",
              "      <td>0.788000</td>\n",
              "    </tr>\n",
              "    <tr>\n",
              "      <th>735</th>\n",
              "      <td>Yam</td>\n",
              "      <td>Tuber</td>\n",
              "      <td>Vegetable</td>\n",
              "      <td>74.00</td>\n",
              "      <td>1.107692</td>\n",
              "      <td>0.250000</td>\n",
              "      <td>2.307692</td>\n",
              "    </tr>\n",
              "    <tr>\n",
              "      <th>736</th>\n",
              "      <td>Barbados Cherry</td>\n",
              "      <td>Fruit</td>\n",
              "      <td>Tree and fruit</td>\n",
              "      <td>91.41</td>\n",
              "      <td>0.745052</td>\n",
              "      <td>0.128056</td>\n",
              "      <td>1.699651</td>\n",
              "    </tr>\n",
              "  </tbody>\n",
              "</table>\n",
              "<p>737 rows × 7 columns</p>\n",
              "</div>\n",
              "      <button class=\"colab-df-convert\" onclick=\"convertToInteractive('df-bb5f8aef-78d3-4082-82c3-b3332ee79e51')\"\n",
              "              title=\"Convert this dataframe to an interactive table.\"\n",
              "              style=\"display:none;\">\n",
              "        \n",
              "  <svg xmlns=\"http://www.w3.org/2000/svg\" height=\"24px\"viewBox=\"0 0 24 24\"\n",
              "       width=\"24px\">\n",
              "    <path d=\"M0 0h24v24H0V0z\" fill=\"none\"/>\n",
              "    <path d=\"M18.56 5.44l.94 2.06.94-2.06 2.06-.94-2.06-.94-.94-2.06-.94 2.06-2.06.94zm-11 1L8.5 8.5l.94-2.06 2.06-.94-2.06-.94L8.5 2.5l-.94 2.06-2.06.94zm10 10l.94 2.06.94-2.06 2.06-.94-2.06-.94-.94-2.06-.94 2.06-2.06.94z\"/><path d=\"M17.41 7.96l-1.37-1.37c-.4-.4-.92-.59-1.43-.59-.52 0-1.04.2-1.43.59L10.3 9.45l-7.72 7.72c-.78.78-.78 2.05 0 2.83L4 21.41c.39.39.9.59 1.41.59.51 0 1.02-.2 1.41-.59l7.78-7.78 2.81-2.81c.8-.78.8-2.07 0-2.86zM5.41 20L4 18.59l7.72-7.72 1.47 1.35L5.41 20z\"/>\n",
              "  </svg>\n",
              "      </button>\n",
              "      \n",
              "  <style>\n",
              "    .colab-df-container {\n",
              "      display:flex;\n",
              "      flex-wrap:wrap;\n",
              "      gap: 12px;\n",
              "    }\n",
              "\n",
              "    .colab-df-convert {\n",
              "      background-color: #E8F0FE;\n",
              "      border: none;\n",
              "      border-radius: 50%;\n",
              "      cursor: pointer;\n",
              "      display: none;\n",
              "      fill: #1967D2;\n",
              "      height: 32px;\n",
              "      padding: 0 0 0 0;\n",
              "      width: 32px;\n",
              "    }\n",
              "\n",
              "    .colab-df-convert:hover {\n",
              "      background-color: #E2EBFA;\n",
              "      box-shadow: 0px 1px 2px rgba(60, 64, 67, 0.3), 0px 1px 3px 1px rgba(60, 64, 67, 0.15);\n",
              "      fill: #174EA6;\n",
              "    }\n",
              "\n",
              "    [theme=dark] .colab-df-convert {\n",
              "      background-color: #3B4455;\n",
              "      fill: #D2E3FC;\n",
              "    }\n",
              "\n",
              "    [theme=dark] .colab-df-convert:hover {\n",
              "      background-color: #434B5C;\n",
              "      box-shadow: 0px 1px 3px 1px rgba(0, 0, 0, 0.15);\n",
              "      filter: drop-shadow(0px 1px 2px rgba(0, 0, 0, 0.3));\n",
              "      fill: #FFFFFF;\n",
              "    }\n",
              "  </style>\n",
              "\n",
              "      <script>\n",
              "        const buttonEl =\n",
              "          document.querySelector('#df-bb5f8aef-78d3-4082-82c3-b3332ee79e51 button.colab-df-convert');\n",
              "        buttonEl.style.display =\n",
              "          google.colab.kernel.accessAllowed ? 'block' : 'none';\n",
              "\n",
              "        async function convertToInteractive(key) {\n",
              "          const element = document.querySelector('#df-bb5f8aef-78d3-4082-82c3-b3332ee79e51');\n",
              "          const dataTable =\n",
              "            await google.colab.kernel.invokeFunction('convertToInteractive',\n",
              "                                                     [key], {});\n",
              "          if (!dataTable) return;\n",
              "\n",
              "          const docLinkHtml = 'Like what you see? Visit the ' +\n",
              "            '<a target=\"_blank\" href=https://colab.research.google.com/notebooks/data_table.ipynb>data table notebook</a>'\n",
              "            + ' to learn more about interactive tables.';\n",
              "          element.innerHTML = '';\n",
              "          dataTable['output_type'] = 'display_data';\n",
              "          await google.colab.output.renderOutput(dataTable, element);\n",
              "          const docLink = document.createElement('div');\n",
              "          docLink.innerHTML = docLinkHtml;\n",
              "          element.appendChild(docLink);\n",
              "        }\n",
              "      </script>\n",
              "    </div>\n",
              "  </div>\n",
              "  "
            ]
          },
          "metadata": {},
          "execution_count": 13
        }
      ]
    },
    {
      "cell_type": "markdown",
      "source": [
        "Рассмотрим столбцы категорий — PlantPartHarvested и CropCategory."
      ],
      "metadata": {
        "id": "mPWdnLqz69PS"
      }
    },
    {
      "cell_type": "code",
      "source": [
        "df2.PlantPartHarvested.value_counts()"
      ],
      "metadata": {
        "colab": {
          "base_uri": "https://localhost:8080/"
        },
        "id": "0b8wok676vPR",
        "outputId": "b0feed28-9acf-44b0-ca27-867bff120b24"
      },
      "execution_count": null,
      "outputs": [
        {
          "output_type": "execute_result",
          "data": {
            "text/plain": [
              "Aboveground biomass               443\n",
              "Fruit                             126\n",
              "Seed                               30\n",
              "Straw                              26\n",
              "Leaf                               13\n",
              "Caryopsis                          13\n",
              "Nut                                10\n",
              "Root                               10\n",
              "Floret                             10\n",
              "Stover                              8\n",
              "Bulb                                6\n",
              "Head                                4\n",
              "Head (terminal bud and leaves)      4\n",
              "Stem and leaf                       3\n",
              "Stem                                3\n",
              "Tuber                               3\n",
              "Corm                                3\n",
              "Petiole                             3\n",
              "Leafy head                          2\n",
              "Stalk and leaf                      2\n",
              "Shoot (immature)                    2\n",
              "Bud                                 2\n",
              "Inflorescence                       1\n",
              "Ear and husk                        1\n",
              "Seed and lint                       1\n",
              "Leaf and petiole                    1\n",
              "Stem and floral parts               1\n",
              "Friut                               1\n",
              "Vine without pods                   1\n",
              "Seed (immature)                     1\n",
              "Crown and root                      1\n",
              "Crown and aboveground biomass       1\n",
              "Stem and leaves                     1\n",
              "Name: PlantPartHarvested, dtype: int64"
            ]
          },
          "metadata": {},
          "execution_count": 14
        }
      ]
    },
    {
      "cell_type": "code",
      "source": [
        "df2.CropCategory.value_counts()"
      ],
      "metadata": {
        "colab": {
          "base_uri": "https://localhost:8080/"
        },
        "id": "JejJD1yn7Eij",
        "outputId": "1b0fede6-cb2d-40f7-8a32-9bffdae496f8"
      },
      "execution_count": null,
      "outputs": [
        {
          "output_type": "execute_result",
          "data": {
            "text/plain": [
              "Forage                     444\n",
              "Vegetable                  118\n",
              "Tree and fruit             103\n",
              "Cereal and oil              53\n",
              "Fiber and miscellaneous     19\n",
              "Name: CropCategory, dtype: int64"
            ]
          },
          "metadata": {},
          "execution_count": 15
        }
      ]
    },
    {
      "cell_type": "markdown",
      "source": [
        "Если для CropCategory у нас пять категорий, то для PlantPartHarvested у нас много категорий. Чтобы упростить ситуацию, уменьшим кол-во категорий PlantPartHarvested - мы будем учитывать пять первых категорий из него, а остальные значения объеденим в 6-тую категорию \"Others\"(Другие)."
      ],
      "metadata": {
        "id": "IuUm_dCc7QDa"
      }
    },
    {
      "cell_type": "code",
      "source": [
        "plantpart_counts = { key:i for key, i in zip(df2.PlantPartHarvested.value_counts().index[:5], range(5)) }\n",
        "\n",
        "def get_plantpart_classif(val):\n",
        "    try:\n",
        "        plantpart_counts[val]\n",
        "        return val\n",
        "    except:\n",
        "        return \"Others\"\n",
        "    \n",
        "df2['PlantPartClassif'] = df2['PlantPartHarvested'].apply(get_plantpart_classif)\n",
        "df2.PlantPartClassif.value_counts()"
      ],
      "metadata": {
        "colab": {
          "base_uri": "https://localhost:8080/"
        },
        "id": "amBP2rDt8YzK",
        "outputId": "38b66ff7-24c6-4218-c33f-0e62a07e8fde"
      },
      "execution_count": null,
      "outputs": [
        {
          "output_type": "execute_result",
          "data": {
            "text/plain": [
              "Aboveground biomass    443\n",
              "Fruit                  126\n",
              "Others                  99\n",
              "Seed                    30\n",
              "Straw                   26\n",
              "Leaf                    13\n",
              "Name: PlantPartClassif, dtype: int64"
            ]
          },
          "metadata": {},
          "execution_count": 16
        }
      ]
    },
    {
      "cell_type": "markdown",
      "source": [
        "Гипотеза 1: Средняя влажнотсь в зависимости от различных частей растения"
      ],
      "metadata": {
        "id": "63AAEm_S-Qqq"
      }
    },
    {
      "cell_type": "code",
      "source": [
        "def plot_strip_box(x, y):\n",
        "    \"\"\"\n",
        "    Create a strip plot and box plot for the given x and y values\n",
        "    \"\"\"\n",
        "    \n",
        "    fig= plt.subplots(figsize=(20, 10))\n",
        "    plt.subplots_adjust(hspace=0.3)\n",
        "\n",
        "    ax2 = plt.subplot(1, 2, 2)\n",
        "    sns.boxplot(x = df2[x], y = df2[y])\n",
        "    plt.tick_params(rotation=60, labelsize=10)\n",
        "\n",
        "    plt.suptitle(\"{} of different {}\".format(x,y), fontsize=20)\n",
        "    plt.show()\n",
        "\n",
        "plot_strip_box(\"AvMoisture%\", \"PlantPartClassif\")\n"
      ],
      "metadata": {
        "colab": {
          "base_uri": "https://localhost:8080/",
          "height": 689
        },
        "id": "fP-88CkD9CA3",
        "outputId": "3666f48e-3f40-434b-b572-1d11e92a492f"
      },
      "execution_count": null,
      "outputs": [
        {
          "output_type": "display_data",
          "data": {
            "text/plain": [
              "<Figure size 1440x720 with 1 Axes>"
            ],
            "image/png": "[encoded data removed]"
          },
          "metadata": {
            "needs_background": "light"
          }
        }
      ]
    },
    {
      "cell_type": "markdown",
      "source": [
        "Рассматривая распределение средней влажности культур с различными собранными частями растений, мы можем классифицировать их на те, которые имеют низкую потребность во влаге - Seed и Straw (солома и семена), высокую потребность во влаге - Leaf и Fruit (листья и плоды), и те, которые охватывают как низкие, так и высокие значения - Aboveground biomass и Others (надземная биомасса и другие).\n",
        "\n",
        "Можно заметить, что те части растения, которые нуждаются в меньшем количестве влаги, более приспособлены к более сухим условиям. Семена способны выживать в более сухих районах до того момента, когда условия станут подходящими для их роста, а солома (Соло́ма — сухие стебли злаковых и бобовых зерновых культур) происходит из стебля растения, который обычно жесткий, чтобы держать растение в вертикальном положении и защищать его от внешних угроз, таких как укусы животных.\n",
        "\n",
        "Мы также можем применить эту схему на категории культур:\n",
        " cereal and oil (зерновые и масличные) требуют меньше влаги, tree, fruit and vegetables (деревья, фрукты и овощи) - больше, а остальные категории находятся между низким и почти высоким уровнем влажности."
      ],
      "metadata": {
        "id": "og2w14hK9wbB"
      }
    },
    {
      "cell_type": "code",
      "source": [
        "plot_strip_box(\"AvMoisture%\", \"CropCategory\")"
      ],
      "metadata": {
        "colab": {
          "base_uri": "https://localhost:8080/",
          "height": 698
        },
        "id": "aoz4u1Lr9GWx",
        "outputId": "72be368f-4da8-45e2-97bc-4bc009575b9c"
      },
      "execution_count": null,
      "outputs": [
        {
          "output_type": "display_data",
          "data": {
            "text/plain": [
              "<Figure size 1440x720 with 1 Axes>"
            ],
            "image/png": "[encoded data removed]"
          },
          "metadata": {
            "needs_background": "light"
          }
        }
      ]
    },
    {
      "cell_type": "markdown",
      "source": [
        "Гипотеза 2: Средний уровень содержания азота для различных частей растений и категорий культур"
      ],
      "metadata": {
        "id": "VSy4qDIE_5K4"
      }
    },
    {
      "cell_type": "code",
      "source": [
        "plot_strip_box(\"AvN%(dry)\", \"PlantPartClassif\")"
      ],
      "metadata": {
        "colab": {
          "base_uri": "https://localhost:8080/",
          "height": 678
        },
        "id": "ghEDQNxTAi2p",
        "outputId": "b655bb6c-381c-4165-bb80-fb930a906360"
      },
      "execution_count": null,
      "outputs": [
        {
          "output_type": "display_data",
          "data": {
            "text/plain": [
              "<Figure size 1440x720 with 1 Axes>"
            ],
            "image/png": "[encoded data removed]"
          },
          "metadata": {
            "needs_background": "light"
          }
        }
      ]
    },
    {
      "cell_type": "markdown",
      "source": [
        "Для среднего уровеня содержания азота для различных частей растения мы видим, что распределение для первых четырех категорий является более распределенным, с диапазоном около .75-1.5. Последние две категории распределены более тесно, причем Leaf (лист) имеет наименьшее расстояние между квартилями, но при этом имеет исключения, которые охватывают высокие и низкие области. Кроме того, можно также сказать, что части растения не превышают среднее значение уровеня содержания азота в 5%."
      ],
      "metadata": {
        "id": "U3DuqG3fBtoB"
      }
    },
    {
      "cell_type": "code",
      "source": [
        "plot_strip_box(\"AvN%(dry)\", \"CropCategory\")"
      ],
      "metadata": {
        "colab": {
          "base_uri": "https://localhost:8080/",
          "height": 698
        },
        "id": "fRxRkJ0HA3IY",
        "outputId": "4a567e75-502f-4092-dd1d-375076b12a49"
      },
      "execution_count": null,
      "outputs": [
        {
          "output_type": "display_data",
          "data": {
            "text/plain": [
              "<Figure size 1440x720 with 1 Axes>"
            ],
            "image/png": "[encoded data removed]"
          },
          "metadata": {
            "needs_background": "light"
          }
        }
      ]
    },
    {
      "cell_type": "markdown",
      "source": [
        "Как и части растений, большинство категорий культур также хорошо распределены по средним значениям азота от 0-5%."
      ],
      "metadata": {
        "id": "Ua8B9LFAA4CY"
      }
    },
    {
      "cell_type": "markdown",
      "source": [
        "Гипотеза 3: Средний уровень содержания фосфора для различных частей растений и категорий культур"
      ],
      "metadata": {
        "id": "V7VZ72RqCzWQ"
      }
    },
    {
      "cell_type": "code",
      "source": [
        "plot_strip_box(\"AvP%(dry)\", \"PlantPartClassif\")"
      ],
      "metadata": {
        "colab": {
          "base_uri": "https://localhost:8080/",
          "height": 686
        },
        "id": "8debmPdUC3Nf",
        "outputId": "5464b89d-355f-4470-d6d4-933d577a7e3d"
      },
      "execution_count": null,
      "outputs": [
        {
          "output_type": "display_data",
          "data": {
            "text/plain": [
              "<Figure size 1440x720 with 1 Axes>"
            ],
            "image/png": "[encoded data removed]"
          },
          "metadata": {
            "needs_background": "light"
          }
        }
      ]
    },
    {
      "cell_type": "markdown",
      "source": [
        "Среднее значение уровеня содержания фосфора для всех частей растений не превышает 1,2%, что говорит о том, что сельскохозяйственные культуры нуждаются лишь в очень мизерном количестве этого элемента. Большинство значений распределено в диапазоне 0-0,6%."
      ],
      "metadata": {
        "id": "aZM5fABRC6kI"
      }
    },
    {
      "cell_type": "code",
      "source": [
        "plot_strip_box(\"AvP%(dry)\", \"CropCategory\")"
      ],
      "metadata": {
        "colab": {
          "base_uri": "https://localhost:8080/",
          "height": 698
        },
        "id": "5oZ8eLn7DKaA",
        "outputId": "f68c793c-06d5-4509-e047-d4aa601666ae"
      },
      "execution_count": null,
      "outputs": [
        {
          "output_type": "display_data",
          "data": {
            "text/plain": [
              "<Figure size 1440x720 with 1 Axes>"
            ],
            "image/png": "[encoded data removed]"
          },
          "metadata": {
            "needs_background": "light"
          }
        }
      ]
    },
    {
      "cell_type": "markdown",
      "source": [
        "То же самое можно сказать и о различных категориях культур, хотя на этот раз большинство значений распределено в диапазоне 0-0,5%."
      ],
      "metadata": {
        "id": "9-erjAjbDN2Q"
      }
    },
    {
      "cell_type": "markdown",
      "source": [
        "Гипотеза 4: Средний уровень содержания калия для различных частей растений и категорий культур"
      ],
      "metadata": {
        "id": "a5TvpW3rDOvw"
      }
    },
    {
      "cell_type": "code",
      "source": [
        "plot_strip_box(\"AvK%(dry)\", \"PlantPartClassif\")\n"
      ],
      "metadata": {
        "colab": {
          "base_uri": "https://localhost:8080/",
          "height": 678
        },
        "id": "obTFwf6JDe6n",
        "outputId": "05f8929e-dcce-4fc1-a521-6b1251bdaf40"
      },
      "execution_count": null,
      "outputs": [
        {
          "output_type": "display_data",
          "data": {
            "text/plain": [
              "<Figure size 1440x720 with 1 Axes>"
            ],
            "image/png": "[encoded data removed]"
          },
          "metadata": {
            "needs_background": "light"
          }
        }
      ]
    },
    {
      "cell_type": "markdown",
      "source": [
        "Для среднего значения калия все части растения, кроме листа, имеют медиану в пределах 1-2%. Заметно большее распределение частей растений, не входящих в четыре лучшие категории Others (Другие)."
      ],
      "metadata": {
        "id": "esVa1EqtDfaP"
      }
    },
    {
      "cell_type": "code",
      "source": [
        "plot_strip_box(\"AvK%(dry)\", \"CropCategory\")"
      ],
      "metadata": {
        "colab": {
          "base_uri": "https://localhost:8080/",
          "height": 698
        },
        "id": "geSOKto-DidI",
        "outputId": "4a6cd1e0-2e5b-49fc-b89f-738ecac5c2ee"
      },
      "execution_count": null,
      "outputs": [
        {
          "output_type": "display_data",
          "data": {
            "text/plain": [
              "<Figure size 1440x720 with 1 Axes>"
            ],
            "image/png": "[encoded data removed]"
          },
          "metadata": {
            "needs_background": "light"
          }
        }
      ]
    },
    {
      "cell_type": "markdown",
      "source": [
        "С другой стороны, различные категории культур распределены более равномерно."
      ],
      "metadata": {
        "id": "KFWzA_d1Dqah"
      }
    }
  ]
}