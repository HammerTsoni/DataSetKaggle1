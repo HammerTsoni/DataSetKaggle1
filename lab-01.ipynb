{
  "nbformat": 4,
  "nbformat_minor": 0,
  "metadata": {
    "colab": {
      "provenance": []
    },
    "kernelspec": {
      "name": "python3",
      "display_name": "Python 3"
    },
    "language_info": {
      "name": "python"
    }
  },
  "cells": [
    {
      "cell_type": "markdown",
      "source": [
        "# Лабораторная работа 1"
      ],
      "metadata": {
        "id": "7Z_-friowfqN"
      }
    },
    {
      "cell_type": "markdown",
      "source": [
        "## Задание 1\n",
        "\n",
        "Загрузить таблицу Iris из репозитория UCI (можно из любого доступного источника:\n",
        "UCI, sklearn, kaggle). Поместить данные в объект DataFrame библиотеки pandas.\n",
        "Вычислить корреляции между признаками на всей таблице и отдельно по классам\n",
        "(использовать pd.groupby).\n",
        "\n",
        "Визуализировать распределения классов на всех парах переменных."
      ],
      "metadata": {
        "id": "UvHsBrujwkl7"
      }
    },
    {
      "cell_type": "code",
      "source": [],
      "metadata": {
        "id": "pq7uCitswfCw"
      },
      "execution_count": null,
      "outputs": []
    },
    {
      "cell_type": "markdown",
      "source": [
        "## Задание 2\n",
        "\n",
        "Выбрать две переменные. Построить и визуализировать (показать разделяющую\n",
        "кривую) решения методами линейный и квадратичный дискриминант, логистическая\n",
        "регрессия, SVM (линейное и квадратичное ядро). Пример подходящей визуализации\n",
        "есть в sklearn."
      ],
      "metadata": {
        "id": "kNF5GM5Ewyep"
      }
    },
    {
      "cell_type": "code",
      "source": [],
      "metadata": {
        "id": "h-F7_gyCw5F_"
      },
      "execution_count": null,
      "outputs": []
    },
    {
      "cell_type": "markdown",
      "source": [
        "## Задание 3\n",
        "\n",
        "### В задании можно оставить только два (наименее разделимых) класса.\n",
        "\n",
        "Построить линейный дискриминант на всех переменных. Визуализировать ответы\n",
        "алгоритма (выделить, например, цветом) и классы объектов (выделить, например,\n",
        "формой маркеров) во всех двумерных подпространствах.\n"
      ],
      "metadata": {
        "id": "t02O80yMw5xh"
      }
    },
    {
      "cell_type": "code",
      "source": [],
      "metadata": {
        "id": "xrsGISBPw89e"
      },
      "execution_count": null,
      "outputs": []
    },
    {
      "cell_type": "markdown",
      "source": [
        "## Задание 4\n",
        "\n",
        "### В задании можно оставить только два (наименее разделимых) класса.\n",
        "\n",
        "На двух переменных из задания 2 вычислить квадратичную разделяющую функцию\n",
        "непосредственно по оценкам ковариационных матриц и средних (самостоятельно\n",
        "реализовать метод, не используя готовый). Визуализировать её и сравнить с\n",
        "решением из задания 2."
      ],
      "metadata": {
        "id": "xtpTR3tSxELH"
      }
    },
    {
      "cell_type": "code",
      "source": [],
      "metadata": {
        "id": "0IEnM8WyxHuV"
      },
      "execution_count": null,
      "outputs": []
    }
  ]
}